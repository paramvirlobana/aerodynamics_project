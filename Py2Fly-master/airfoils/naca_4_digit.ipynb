{
 "cells": [
  {
   "cell_type": "markdown",
   "id": "7ae37742",
   "metadata": {},
   "source": [
    "# NACA 4-Digit Airfoil Generator\n",
    "This notebook will generate sets of points defining the camberline and surface of any NACA 4-digit airfoil\n",
    "\n",
    "The user must provide:\n",
    " - The desired 4-digits for the airfoil defining the location of camber, maximum camber, and airfoil thickness\n",
    " \n",
    "The outputs of this program include\n",
    " - Points defining the camberline in the current directory\n",
    " - Points defining the surface of the airfoil in the current directory.\n",
    " \n",
    "Once those are provided you simply need to run all the cells in the notebook to generate the output. A NACA 0012 demonstration case is included by default. The camberline and surface files can be copied into the thin airfoil and vortex panel solver folders."
   ]
  },
  {
   "cell_type": "markdown",
   "id": "e1b2f021",
   "metadata": {},
   "source": [
    "Import some useful libraries."
   ]
  },
  {
   "cell_type": "code",
   "execution_count": 1,
   "id": "fdbe8e87",
   "metadata": {},
   "outputs": [],
   "source": [
    "import math\n",
    "import numpy as np\n",
    "import matplotlib.pyplot as plt"
   ]
  },
  {
   "cell_type": "markdown",
   "id": "a1dec34a",
   "metadata": {},
   "source": [
    "Define the gererator"
   ]
  },
  {
   "cell_type": "code",
   "execution_count": 2,
   "id": "d107b316",
   "metadata": {},
   "outputs": [],
   "source": [
    "def generator(m, p, t, n):\n",
    "    # Convert the NACA digits to their actual values\n",
    "    m = m / 100\n",
    "    p = p / 10\n",
    "    t = t / 100\n",
    "\n",
    "    # Initialize the arrays for the camber line and upper and lower surface\n",
    "    x_c = np.zeros((n, 2))\n",
    "    x_u = np.zeros((n, 2))\n",
    "    x_l = np.zeros((n, 2))\n",
    "\n",
    "    # Generate the camber line\n",
    "    for i in range(0, n):\n",
    "        # Get the position of this point along the chord\n",
    "        x = i / (n - 1)\n",
    "\n",
    "        # Apply a cosine redistribution\n",
    "        x = 0.5 * (math.cos(math.pi * x + math.pi) + 1)\n",
    "\n",
    "        # Get the values for the camber line\n",
    "        x_c[i, 0] = x\n",
    "        if x < p:\n",
    "            x_c[i, 1] = m / p ** 2 * (2 * p * x - x ** 2)\n",
    "        else:\n",
    "            x_c[i, 1] = m / (1 - p) ** 2 * ((1 - 2 * p) + 2 * p * x - x ** 2)\n",
    "\n",
    "        # Get the values for the thickness and upper and lower surfaces\n",
    "        y_t = 5 * t * (0.2969 * math.sqrt(x) - 0.1260 * x - 0.3516 * x ** 2 + 0.2843 * x ** 3 - 0.1036 * x ** 4)\n",
    "        if x < p:\n",
    "            dyc_dx = 2 * m / p ** 2 * (p - x)\n",
    "        else:\n",
    "            dyc_dx = 2 * m / (1 - p) ** 2 * (p - x)\n",
    "\n",
    "        theta = math.atan(dyc_dx)\n",
    "\n",
    "        x_l[i, 0] = x + y_t * math.sin(theta)\n",
    "        x_l[i, 1] = x_c[i, 1] - y_t * math.cos(theta)\n",
    "        x_u[i, 0] = x - y_t * math.sin(theta)\n",
    "        x_u[i, 1] = x_c[i, 1] + y_t * math.cos(theta)\n",
    "\n",
    "    # Save the camber line to disk\n",
    "    np.savetxt('camberline.txt', x_c, delimiter=' ')\n",
    "\n",
    "    # Append the upper and lower surfaces to create the airfoil geometry\n",
    "    x = np.append(np.flipud(x_u), x_l[1:n, :], axis=0)\n",
    "\n",
    "    # Save the airfoil geometry to disk\n",
    "    np.savetxt('airfoil.txt', x, delimiter=' ')\n",
    "\n",
    "    # Plot the camber line and geometry and save to disk\n",
    "    fig, plot = plt.subplots()\n",
    "    plot.plot(x[:, 0], x[:, 1], label='Surface')\n",
    "    plot.plot(x_c[:, 0], x_c[:, 1], label='Camber Line')\n",
    "    plot.set_xlabel('x/c')\n",
    "    plot.set_ylabel('y/c')\n",
    "    plot.set_title('NACA ' + str(int(m * 100)) + str(int(p * 10)) + str(int(t * 100)))\n",
    "    plot.set_ylim([-0.5, 0.5])\n",
    "    plot.legend()\n",
    "    plt.show()\n",
    "    fig.savefig('airfoil.pdf')"
   ]
  },
  {
   "cell_type": "markdown",
   "id": "fab6dde5",
   "metadata": {},
   "source": [
    "Choose the airfoil parameters and generate everything"
   ]
  },
  {
   "cell_type": "code",
   "execution_count": 4,
   "id": "4339af3f",
   "metadata": {},
   "outputs": [
    {
     "data": {
      "image/png": "[encoded data removed]",
      "text/plain": [
       "<Figure size 432x288 with 1 Axes>"
      ]
     },
     "metadata": {
      "needs_background": "light"
     },
     "output_type": "display_data"
    }
   ],
   "source": [
    "# Enter the four digits defining the airfoil shape\n",
    "m = 0\n",
    "p = 0\n",
    "t = 12\n",
    "\n",
    "# Enter the desired number of points on the camber line\n",
    "n = 100\n",
    "\n",
    "# Call the airfoil generator\n",
    "generator(m, p, t, n)"
   ]
  },
  {
   "cell_type": "code",
   "execution_count": null,
   "id": "844e5994",
   "metadata": {},
   "outputs": [],
   "source": []
  }
 ],
 "metadata": {
  "kernelspec": {
   "display_name": "Python 3",
   "language": "python",
   "name": "python3"
  },
  "language_info": {
   "codemirror_mode": {
    "name": "ipython",
    "version": 3
   },
   "file_extension": ".py",
   "mimetype": "text/x-python",
   "name": "python",
   "nbconvert_exporter": "python",
   "pygments_lexer": "ipython3",
   "version": "3.9.6"
  }
 },
 "nbformat": 4,
 "nbformat_minor": 5
}
